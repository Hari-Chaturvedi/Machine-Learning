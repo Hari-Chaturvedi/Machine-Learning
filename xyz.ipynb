{
 "cells": [
  {
   "cell_type": "code",
   "execution_count": 1,
   "metadata": {},
   "outputs": [
    {
     "name": "stdout",
     "output_type": "stream",
     "text": [
      "(20433, 8) (8,)\n"
     ]
    }
   ],
   "source": [
    "import numpy as np\n",
    "import pandas as pd\n",
    "from sklearn.preprocessing import StandardScaler\n",
    "\n",
    "class MLR_GD:\n",
    "    def __init__(self):\n",
    "        self.intercept_ = 0\n",
    "        self.coef_ = None\n",
    "        self.lr = 0.01\n",
    "        self.epochs = 100\n",
    "\n",
    "    def fit_gd(self, X, Y):\n",
    "        # Correct initialization of coefficients\n",
    "        self.coef_ = np.ones(X.shape[1])\n",
    "        print(X.shape, self.coef_.shape)  # Ensure shapes are aligned\n",
    "\n",
    "        for i in range(self.epochs):\n",
    "            # Y_hat should have the same shape as Y\n",
    "            Y_hat = np.dot(X, self.coef_) + self.intercept_\n",
    "\n",
    "            # Update intercept\n",
    "            intercept_Loss_funct = -2 * np.mean(Y - Y_hat)\n",
    "            self.intercept_ -= self.lr * intercept_Loss_funct\n",
    "\n",
    "            # Update coefficients\n",
    "            coef_loss_funct = -2 * np.dot((Y - Y_hat).T, X) / X.shape[0]\n",
    "            self.coef_ -= self.lr * coef_loss_funct\n",
    "\n",
    "        return self.coef_, self.intercept_\n",
    "\n",
    "    def predict_gd(self, X):\n",
    "        Y = np.dot(X, self.coef_) + self.intercept_\n",
    "        return Y\n",
    "\n",
    "# Assuming X_train and Y_train are pre-processed correctly\n",
    "data = pd.read_csv(\"D:/Data Analytics/Python Scripts/Statistics/Assignment/housing.csv\")\n",
    "data.dropna(inplace=True)\n",
    "data.drop(columns=[\"ocean_proximity\"], inplace=True)\n",
    "\n",
    "# Features and target\n",
    "X = data.loc[:, [\"longitude\", \"latitude\", \"housing_median_age\", \"total_rooms\", \"total_bedrooms\", \"population\", \"households\", \"median_income\"]]\n",
    "Y = data.loc[:, \"median_house_value\"]\n",
    "\n",
    "# Scaling the data\n",
    "scaler = StandardScaler()\n",
    "X = scaler.fit_transform(X)\n",
    "Y = scaler.fit_transform(Y.values.reshape(-1, 1)).flatten()  # Flatten Y after scaling\n",
    "\n",
    "# Training the model\n",
    "mr = MLR_GD()\n",
    "mr.fit_gd(X, Y)\n",
    "\n",
    "# Making predictions\n",
    "predictions = mr.predict_gd(X)\n"
   ]
  },
  {
   "cell_type": "code",
   "execution_count": 2,
   "metadata": {},
   "outputs": [
    {
     "data": {
      "text/plain": [
       "array([ 0.85616665,  0.8173966 ,  0.52401358,  0.00113361,  0.11271842,\n",
       "       -0.00948305,  0.10399102,  0.85879934])"
      ]
     },
     "execution_count": 2,
     "metadata": {},
     "output_type": "execute_result"
    }
   ],
   "source": [
    "mr.coef_"
   ]
  }
 ],
 "metadata": {
  "kernelspec": {
   "display_name": "Python 3",
   "language": "python",
   "name": "python3"
  },
  "language_info": {
   "codemirror_mode": {
    "name": "ipython",
    "version": 3
   },
   "file_extension": ".py",
   "mimetype": "text/x-python",
   "name": "python",
   "nbconvert_exporter": "python",
   "pygments_lexer": "ipython3",
   "version": "3.11.9"
  }
 },
 "nbformat": 4,
 "nbformat_minor": 2
}
