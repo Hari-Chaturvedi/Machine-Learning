{
 "cells": [
  {
   "cell_type": "markdown",
   "metadata": {},
   "source": [
    "# K-Means Clustering"
   ]
  },
  {
   "cell_type": "code",
   "execution_count": 138,
   "metadata": {},
   "outputs": [],
   "source": [
    "import pandas as pd\n",
    "import numpy as np\n",
    "import matplotlib.pyplot as plt\n",
    "import math as mt\n",
    "\n",
    "from sklearn.cluster import KMeans\n"
   ]
  },
  {
   "cell_type": "code",
   "execution_count": 139,
   "metadata": {},
   "outputs": [
    {
     "data": {
      "text/html": [
       "<div>\n",
       "<style scoped>\n",
       "    .dataframe tbody tr th:only-of-type {\n",
       "        vertical-align: middle;\n",
       "    }\n",
       "\n",
       "    .dataframe tbody tr th {\n",
       "        vertical-align: top;\n",
       "    }\n",
       "\n",
       "    .dataframe thead th {\n",
       "        text-align: right;\n",
       "    }\n",
       "</style>\n",
       "<table border=\"1\" class=\"dataframe\">\n",
       "  <thead>\n",
       "    <tr style=\"text-align: right;\">\n",
       "      <th></th>\n",
       "      <th>cgpa</th>\n",
       "      <th>iq</th>\n",
       "    </tr>\n",
       "  </thead>\n",
       "  <tbody>\n",
       "    <tr>\n",
       "      <th>0</th>\n",
       "      <td>5.13</td>\n",
       "      <td>88</td>\n",
       "    </tr>\n",
       "    <tr>\n",
       "      <th>1</th>\n",
       "      <td>5.90</td>\n",
       "      <td>113</td>\n",
       "    </tr>\n",
       "    <tr>\n",
       "      <th>2</th>\n",
       "      <td>8.36</td>\n",
       "      <td>93</td>\n",
       "    </tr>\n",
       "    <tr>\n",
       "      <th>3</th>\n",
       "      <td>8.27</td>\n",
       "      <td>97</td>\n",
       "    </tr>\n",
       "    <tr>\n",
       "      <th>4</th>\n",
       "      <td>5.45</td>\n",
       "      <td>110</td>\n",
       "    </tr>\n",
       "  </tbody>\n",
       "</table>\n",
       "</div>"
      ],
      "text/plain": [
       "   cgpa   iq\n",
       "0  5.13   88\n",
       "1  5.90  113\n",
       "2  8.36   93\n",
       "3  8.27   97\n",
       "4  5.45  110"
      ]
     },
     "execution_count": 139,
     "metadata": {},
     "output_type": "execute_result"
    }
   ],
   "source": [
    "df = pd.read_csv(\"D:\\Data Analytics\\Python Scripts\\Machine Learning\\K-Means\\student_clustering.csv\")\n",
    "df.head()"
   ]
  },
  {
   "cell_type": "code",
   "execution_count": 140,
   "metadata": {},
   "outputs": [
    {
     "data": {
      "text/plain": [
       "(200, 2)"
      ]
     },
     "execution_count": 140,
     "metadata": {},
     "output_type": "execute_result"
    }
   ],
   "source": [
    "df.shape"
   ]
  },
  {
   "cell_type": "code",
   "execution_count": 141,
   "metadata": {},
   "outputs": [
    {
     "data": {
      "text/plain": [
       "<matplotlib.collections.PathCollection at 0x1b2bdaef7d0>"
      ]
     },
     "execution_count": 141,
     "metadata": {},
     "output_type": "execute_result"
    },
    {
     "data": {
      "image/png": "[encoded data removed]",
      "text/plain": [
       "<Figure size 640x480 with 1 Axes>"
      ]
     },
     "metadata": {},
     "output_type": "display_data"
    }
   ],
   "source": [
    "plt.scatter(df['cgpa'], df[\"iq\"])"
   ]
  },
  {
   "cell_type": "code",
   "execution_count": 145,
   "metadata": {},
   "outputs": [],
   "source": [
    "def initialize_centroids(data, k):\n",
    "    \"\"\"Randomly initialize k centroids from the dataset.\"\"\"\n",
    "    indices = np.random.choice(data.shape[0], k, replace=False)\n",
    "    return data[indices]\n",
    "\n",
    "def assign_clusters(data, centroids):\n",
    "    \"\"\"Assign each data point to the nearest centroid.\"\"\"\n",
    "    clusters = []\n",
    "    for point in data:\n",
    "        distances = np.linalg.norm(point - centroids, axis=1)\n",
    "        clusters.append(np.argmin(distances))\n",
    "    return np.array(clusters)\n",
    "\n",
    "def calculate_centroids(data, clusters, k):\n",
    "    \"\"\"Recalculate centroids as the mean of points in each cluster.\"\"\"\n",
    "    centroids = []\n",
    "    for i in range(k):\n",
    "        cluster_points = data[clusters == i]\n",
    "        if len(cluster_points) > 0:\n",
    "            centroids.append(cluster_points.mean(axis=0))\n",
    "        else:\n",
    "            centroids.append(np.random.rand(1, data.shape[1]) * 10)  # Handle empty clusters\n",
    "    return np.array(centroids)\n",
    "\n",
    "def calculate_wcss(data, clusters, centroids):\n",
    "    \"\"\"Calculate WCSS for the given clustering.\"\"\"\n",
    "    wcss = 0\n",
    "    for i, centroid in enumerate(centroids):\n",
    "        cluster_points = data[clusters == i]\n",
    "        wcss += np.sum((cluster_points - centroid) ** 2)\n",
    "    return wcss\n",
    "\n",
    "def kmeans(data, k, max_iter=100):\n",
    "    \"\"\"Perform K-Means clustering and return final centroids and clusters.\"\"\"\n",
    "    centroids = initialize_centroids(data, k)\n",
    "    for _ in range(max_iter):\n",
    "        clusters = assign_clusters(data, centroids)\n",
    "        new_centroids = calculate_centroids(data, clusters, k)\n",
    "        if np.all(centroids == new_centroids):\n",
    "            break\n",
    "        centroids = new_centroids\n",
    "    return centroids, clusters\n",
    "\n",
    "# Calculate WCSS for different numbers of clusters\n",
    "max_clusters = 16\n",
    "wcss = []\n",
    "\n",
    "x = df.to_numpy()\n",
    "for k in range(1, max_clusters + 1):\n",
    "    centroids, clusters = kmeans(x, k)\n",
    "    wcss.append(calculate_wcss(x, clusters, centroids))\n",
    "\n",
    "# Plot the elbow curve\n",
    "plt.figure(figsize=(8, 5))\n",
    "plt.plot(range(1, max_clusters + 1), wcss, marker='o', linestyle='--')\n",
    "plt.title('Elbow Curve for Two-Column Dataset (Manual K-Means)')\n",
    "plt.xlabel('Number of Clusters')\n",
    "plt.ylabel('WCSS (Within-Cluster Sum of Squares)')\n",
    "plt.xticks(range(1, max_clusters + 1))\n",
    "plt.grid()\n",
    "plt.show()\n"
   ]
  },
  {
   "cell_type": "code",
   "execution_count": null,
   "metadata": {},
   "outputs": [],
   "source": []
  }
 ],
 "metadata": {
  "kernelspec": {
   "display_name": "Python 3",
   "language": "python",
   "name": "python3"
  },
  "language_info": {
   "codemirror_mode": {
    "name": "ipython",
    "version": 3
   },
   "file_extension": ".py",
   "mimetype": "text/x-python",
   "name": "python",
   "nbconvert_exporter": "python",
   "pygments_lexer": "ipython3",
   "version": "3.11.9"
  }
 },
 "nbformat": 4,
 "nbformat_minor": 2
}
