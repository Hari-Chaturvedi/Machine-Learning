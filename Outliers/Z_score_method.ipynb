{
 "cells": [
  {
   "cell_type": "markdown",
   "metadata": {},
   "source": [
    "# Removing Outlier using Z-SCORE"
   ]
  },
  {
   "cell_type": "code",
   "execution_count": 537,
   "metadata": {},
   "outputs": [],
   "source": [
    "import numpy as np\n",
    "import pandas as pd\n",
    "\n",
    "from scipy.stats import norm, zscore\n",
    "\n",
    "import matplotlib.pyplot as plt\n",
    "import seaborn as sns"
   ]
  },
  {
   "cell_type": "code",
   "execution_count": 538,
   "metadata": {},
   "outputs": [],
   "source": [
    "# Set the random seed for reproducibility\n",
    "np.random.seed(42)\n",
    "\n",
    "# Define the size of the dataset\n",
    "n_rows = 100\n",
    "n_outliers = int(n_rows * 0.2)\n",
    "\n",
    "# Generate normal data for 80% of the dataset\n",
    "normal_data = {\n",
    "    'Feature1': np.random.normal(50, 10, n_rows - n_outliers),\n",
    "    'Feature2': np.random.normal(100, 15, n_rows - n_outliers),\n",
    "    'Feature3': np.random.normal(150, 20, n_rows - n_outliers),\n",
    "}\n",
    "\n",
    "# Generate outliers for 20% of the dataset\n",
    "outlier_data = {\n",
    "    'Feature1': np.random.uniform(150, 200, n_outliers),\n",
    "    'Feature2': np.random.uniform(250, 300, n_outliers),\n",
    "    'Feature3': np.random.uniform(350, 400, n_outliers),\n",
    "}\n",
    "\n",
    "# Combine normal data and outliers using pd.concat()\n",
    "data = pd.concat([pd.DataFrame(normal_data), pd.DataFrame(outlier_data)], ignore_index=True)\n",
    "\n",
    "# Shuffle the rows to mix normal data and outliers\n",
    "dataset = data.sample(frac=1, random_state=42).reset_index(drop=True)\n",
    "\n"
   ]
  },
  {
   "cell_type": "code",
   "execution_count": 539,
   "metadata": {},
   "outputs": [
    {
     "data": {
      "text/html": [
       "<div>\n",
       "<style scoped>\n",
       "    .dataframe tbody tr th:only-of-type {\n",
       "        vertical-align: middle;\n",
       "    }\n",
       "\n",
       "    .dataframe tbody tr th {\n",
       "        vertical-align: top;\n",
       "    }\n",
       "\n",
       "    .dataframe thead th {\n",
       "        text-align: right;\n",
       "    }\n",
       "</style>\n",
       "<table border=\"1\" class=\"dataframe\">\n",
       "  <thead>\n",
       "    <tr style=\"text-align: right;\">\n",
       "      <th></th>\n",
       "      <th>Feature1</th>\n",
       "      <th>Feature2</th>\n",
       "      <th>Feature3</th>\n",
       "    </tr>\n",
       "  </thead>\n",
       "  <tbody>\n",
       "    <tr>\n",
       "      <th>0</th>\n",
       "      <td>198.132421</td>\n",
       "      <td>255.803632</td>\n",
       "      <td>358.146721</td>\n",
       "    </tr>\n",
       "    <tr>\n",
       "      <th>1</th>\n",
       "      <td>56.116763</td>\n",
       "      <td>107.103886</td>\n",
       "      <td>163.027825</td>\n",
       "    </tr>\n",
       "    <tr>\n",
       "      <th>2</th>\n",
       "      <td>53.613956</td>\n",
       "      <td>103.757393</td>\n",
       "      <td>135.392667</td>\n",
       "    </tr>\n",
       "    <tr>\n",
       "      <th>3</th>\n",
       "      <td>42.801558</td>\n",
       "      <td>132.856834</td>\n",
       "      <td>131.243499</td>\n",
       "    </tr>\n",
       "    <tr>\n",
       "      <th>4</th>\n",
       "      <td>35.214780</td>\n",
       "      <td>108.802856</td>\n",
       "      <td>122.446613</td>\n",
       "    </tr>\n",
       "    <tr>\n",
       "      <th>...</th>\n",
       "      <td>...</td>\n",
       "      <td>...</td>\n",
       "      <td>...</td>\n",
       "    </tr>\n",
       "    <tr>\n",
       "      <th>95</th>\n",
       "      <td>45.208258</td>\n",
       "      <td>103.411899</td>\n",
       "      <td>196.293171</td>\n",
       "    </tr>\n",
       "    <tr>\n",
       "      <th>96</th>\n",
       "      <td>65.380366</td>\n",
       "      <td>105.196723</td>\n",
       "      <td>154.329172</td>\n",
       "    </tr>\n",
       "    <tr>\n",
       "      <th>97</th>\n",
       "      <td>32.750822</td>\n",
       "      <td>94.118378</td>\n",
       "      <td>155.533816</td>\n",
       "    </tr>\n",
       "    <tr>\n",
       "      <th>98</th>\n",
       "      <td>183.009869</td>\n",
       "      <td>258.660093</td>\n",
       "      <td>372.912645</td>\n",
       "    </tr>\n",
       "    <tr>\n",
       "      <th>99</th>\n",
       "      <td>46.149177</td>\n",
       "      <td>101.028445</td>\n",
       "      <td>172.711313</td>\n",
       "    </tr>\n",
       "  </tbody>\n",
       "</table>\n",
       "<p>100 rows × 3 columns</p>\n",
       "</div>"
      ],
      "text/plain": [
       "      Feature1    Feature2    Feature3\n",
       "0   198.132421  255.803632  358.146721\n",
       "1    56.116763  107.103886  163.027825\n",
       "2    53.613956  103.757393  135.392667\n",
       "3    42.801558  132.856834  131.243499\n",
       "4    35.214780  108.802856  122.446613\n",
       "..         ...         ...         ...\n",
       "95   45.208258  103.411899  196.293171\n",
       "96   65.380366  105.196723  154.329172\n",
       "97   32.750822   94.118378  155.533816\n",
       "98  183.009869  258.660093  372.912645\n",
       "99   46.149177  101.028445  172.711313\n",
       "\n",
       "[100 rows x 3 columns]"
      ]
     },
     "execution_count": 539,
     "metadata": {},
     "output_type": "execute_result"
    }
   ],
   "source": [
    "dataset"
   ]
  },
  {
   "cell_type": "code",
   "execution_count": 540,
   "metadata": {},
   "outputs": [
    {
     "data": {
      "text/html": [
       "<div>\n",
       "<style scoped>\n",
       "    .dataframe tbody tr th:only-of-type {\n",
       "        vertical-align: middle;\n",
       "    }\n",
       "\n",
       "    .dataframe tbody tr th {\n",
       "        vertical-align: top;\n",
       "    }\n",
       "\n",
       "    .dataframe thead th {\n",
       "        text-align: right;\n",
       "    }\n",
       "</style>\n",
       "<table border=\"1\" class=\"dataframe\">\n",
       "  <thead>\n",
       "    <tr style=\"text-align: right;\">\n",
       "      <th></th>\n",
       "      <th>Feature1</th>\n",
       "      <th>Feature2</th>\n",
       "      <th>Feature3</th>\n",
       "    </tr>\n",
       "  </thead>\n",
       "  <tbody>\n",
       "    <tr>\n",
       "      <th>count</th>\n",
       "      <td>100.000000</td>\n",
       "      <td>100.000000</td>\n",
       "      <td>100.000000</td>\n",
       "    </tr>\n",
       "    <tr>\n",
       "      <th>mean</th>\n",
       "      <td>73.887494</td>\n",
       "      <td>133.728394</td>\n",
       "      <td>197.306352</td>\n",
       "    </tr>\n",
       "    <tr>\n",
       "      <th>std</th>\n",
       "      <td>51.601335</td>\n",
       "      <td>69.485838</td>\n",
       "      <td>92.051309</td>\n",
       "    </tr>\n",
       "    <tr>\n",
       "      <th>min</th>\n",
       "      <td>23.802549</td>\n",
       "      <td>71.218432</td>\n",
       "      <td>109.497148</td>\n",
       "    </tr>\n",
       "    <tr>\n",
       "      <th>25%</th>\n",
       "      <td>45.045236</td>\n",
       "      <td>92.467200</td>\n",
       "      <td>140.942616</td>\n",
       "    </tr>\n",
       "    <tr>\n",
       "      <th>50%</th>\n",
       "      <td>52.028624</td>\n",
       "      <td>103.907035</td>\n",
       "      <td>159.962584</td>\n",
       "    </tr>\n",
       "    <tr>\n",
       "      <th>75%</th>\n",
       "      <td>64.799940</td>\n",
       "      <td>122.438562</td>\n",
       "      <td>181.286976</td>\n",
       "    </tr>\n",
       "    <tr>\n",
       "      <th>max</th>\n",
       "      <td>198.132421</td>\n",
       "      <td>292.773029</td>\n",
       "      <td>398.059528</td>\n",
       "    </tr>\n",
       "  </tbody>\n",
       "</table>\n",
       "</div>"
      ],
      "text/plain": [
       "         Feature1    Feature2    Feature3\n",
       "count  100.000000  100.000000  100.000000\n",
       "mean    73.887494  133.728394  197.306352\n",
       "std     51.601335   69.485838   92.051309\n",
       "min     23.802549   71.218432  109.497148\n",
       "25%     45.045236   92.467200  140.942616\n",
       "50%     52.028624  103.907035  159.962584\n",
       "75%     64.799940  122.438562  181.286976\n",
       "max    198.132421  292.773029  398.059528"
      ]
     },
     "execution_count": 540,
     "metadata": {},
     "output_type": "execute_result"
    }
   ],
   "source": [
    "dataset.describe()"
   ]
  },
  {
   "cell_type": "code",
   "execution_count": 541,
   "metadata": {},
   "outputs": [
    {
     "data": {
      "text/plain": [
       "<Axes: >"
      ]
     },
     "execution_count": 541,
     "metadata": {},
     "output_type": "execute_result"
    },
    {
     "data": {
      "image/png": "[encoded data removed]",
      "text/plain": [
       "<Figure size 640x480 with 1 Axes>"
      ]
     },
     "metadata": {},
     "output_type": "display_data"
    }
   ],
   "source": [
    "sns.boxplot(dataset)"
   ]
  },
  {
   "cell_type": "code",
   "execution_count": 542,
   "metadata": {},
   "outputs": [
    {
     "data": {
      "text/html": [
       "<div>\n",
       "<style scoped>\n",
       "    .dataframe tbody tr th:only-of-type {\n",
       "        vertical-align: middle;\n",
       "    }\n",
       "\n",
       "    .dataframe tbody tr th {\n",
       "        vertical-align: top;\n",
       "    }\n",
       "\n",
       "    .dataframe thead th {\n",
       "        text-align: right;\n",
       "    }\n",
       "</style>\n",
       "<table border=\"1\" class=\"dataframe\">\n",
       "  <thead>\n",
       "    <tr style=\"text-align: right;\">\n",
       "      <th></th>\n",
       "      <th>Feature1</th>\n",
       "      <th>Feature2</th>\n",
       "      <th>Feature3</th>\n",
       "    </tr>\n",
       "  </thead>\n",
       "  <tbody>\n",
       "    <tr>\n",
       "      <th>0</th>\n",
       "      <td>2.419915</td>\n",
       "      <td>1.765687</td>\n",
       "      <td>1.756093</td>\n",
       "    </tr>\n",
       "    <tr>\n",
       "      <th>1</th>\n",
       "      <td>-0.346120</td>\n",
       "      <td>-0.385095</td>\n",
       "      <td>-0.374261</td>\n",
       "    </tr>\n",
       "    <tr>\n",
       "      <th>2</th>\n",
       "      <td>-0.394867</td>\n",
       "      <td>-0.433498</td>\n",
       "      <td>-0.675988</td>\n",
       "    </tr>\n",
       "    <tr>\n",
       "      <th>3</th>\n",
       "      <td>-0.605460</td>\n",
       "      <td>-0.012606</td>\n",
       "      <td>-0.721290</td>\n",
       "    </tr>\n",
       "    <tr>\n",
       "      <th>4</th>\n",
       "      <td>-0.753227</td>\n",
       "      <td>-0.360521</td>\n",
       "      <td>-0.817336</td>\n",
       "    </tr>\n",
       "    <tr>\n",
       "      <th>...</th>\n",
       "      <td>...</td>\n",
       "      <td>...</td>\n",
       "      <td>...</td>\n",
       "    </tr>\n",
       "    <tr>\n",
       "      <th>95</th>\n",
       "      <td>-0.558585</td>\n",
       "      <td>-0.438495</td>\n",
       "      <td>-0.011062</td>\n",
       "    </tr>\n",
       "    <tr>\n",
       "      <th>96</th>\n",
       "      <td>-0.165693</td>\n",
       "      <td>-0.412680</td>\n",
       "      <td>-0.469235</td>\n",
       "    </tr>\n",
       "    <tr>\n",
       "      <th>97</th>\n",
       "      <td>-0.801218</td>\n",
       "      <td>-0.572916</td>\n",
       "      <td>-0.456082</td>\n",
       "    </tr>\n",
       "    <tr>\n",
       "      <th>98</th>\n",
       "      <td>2.125374</td>\n",
       "      <td>1.807002</td>\n",
       "      <td>1.917311</td>\n",
       "    </tr>\n",
       "    <tr>\n",
       "      <th>99</th>\n",
       "      <td>-0.540258</td>\n",
       "      <td>-0.472970</td>\n",
       "      <td>-0.268534</td>\n",
       "    </tr>\n",
       "  </tbody>\n",
       "</table>\n",
       "<p>100 rows × 3 columns</p>\n",
       "</div>"
      ],
      "text/plain": [
       "    Feature1  Feature2  Feature3\n",
       "0   2.419915  1.765687  1.756093\n",
       "1  -0.346120 -0.385095 -0.374261\n",
       "2  -0.394867 -0.433498 -0.675988\n",
       "3  -0.605460 -0.012606 -0.721290\n",
       "4  -0.753227 -0.360521 -0.817336\n",
       "..       ...       ...       ...\n",
       "95 -0.558585 -0.438495 -0.011062\n",
       "96 -0.165693 -0.412680 -0.469235\n",
       "97 -0.801218 -0.572916 -0.456082\n",
       "98  2.125374  1.807002  1.917311\n",
       "99 -0.540258 -0.472970 -0.268534\n",
       "\n",
       "[100 rows x 3 columns]"
      ]
     },
     "execution_count": 542,
     "metadata": {},
     "output_type": "execute_result"
    }
   ],
   "source": [
    "z_score = zscore(dataset)\n",
    "z_score"
   ]
  },
  {
   "cell_type": "code",
   "execution_count": 543,
   "metadata": {},
   "outputs": [
    {
     "data": {
      "text/plain": [
       "1.6448536269514722"
      ]
     },
     "execution_count": 543,
     "metadata": {},
     "output_type": "execute_result"
    }
   ],
   "source": [
    "critical_z = norm.ppf(0.95)\n",
    "critical_z"
   ]
  },
  {
   "cell_type": "markdown",
   "metadata": {},
   "source": [
    "# Trimming"
   ]
  },
  {
   "cell_type": "code",
   "execution_count": 544,
   "metadata": {},
   "outputs": [],
   "source": [
    "df = dataset[z_score<critical_z].dropna()"
   ]
  },
  {
   "cell_type": "code",
   "execution_count": 545,
   "metadata": {},
   "outputs": [
    {
     "data": {
      "text/plain": [
       "(80, 3)"
      ]
     },
     "execution_count": 545,
     "metadata": {},
     "output_type": "execute_result"
    }
   ],
   "source": [
    "df.shape"
   ]
  },
  {
   "cell_type": "code",
   "execution_count": 546,
   "metadata": {},
   "outputs": [
    {
     "data": {
      "text/plain": [
       "<Axes: >"
      ]
     },
     "execution_count": 546,
     "metadata": {},
     "output_type": "execute_result"
    },
    {
     "data": {
      "image/png": "[encoded data removed]",
      "text/plain": [
       "<Figure size 640x480 with 1 Axes>"
      ]
     },
     "metadata": {},
     "output_type": "display_data"
    }
   ],
   "source": [
    "sns.boxplot(df)"
   ]
  },
  {
   "cell_type": "markdown",
   "metadata": {},
   "source": [
    "# Caping"
   ]
  },
  {
   "cell_type": "code",
   "execution_count": 547,
   "metadata": {},
   "outputs": [
    {
     "data": {
      "text/plain": [
       "(Feature1    158.764137\n",
       " Feature2    248.022426\n",
       " Feature3    348.717282\n",
       " dtype: float64,\n",
       " Feature1   -10.989149\n",
       " Feature2    19.434362\n",
       " Feature3    45.895422\n",
       " dtype: float64)"
      ]
     },
     "execution_count": 547,
     "metadata": {},
     "output_type": "execute_result"
    }
   ],
   "source": [
    "Upper_limit = dataset.mean() + critical_z*dataset.std()\n",
    "lower_limit = dataset.mean() - critical_z*dataset.std()\n",
    "Upper_limit, lower_limit"
   ]
  },
  {
   "cell_type": "code",
   "execution_count": 548,
   "metadata": {},
   "outputs": [
    {
     "data": {
      "text/plain": [
       "(100, 3)"
      ]
     },
     "execution_count": 548,
     "metadata": {},
     "output_type": "execute_result"
    }
   ],
   "source": [
    "df2 = pd.DataFrame(np.where(\n",
    "    dataset > Upper_limit, Upper_limit, np.where(dataset < lower_limit, lower_limit, dataset)\n",
    "))\n",
    "df2.shape"
   ]
  }
 ],
 "metadata": {
  "kernelspec": {
   "display_name": "Python 3",
   "language": "python",
   "name": "python3"
  },
  "language_info": {
   "codemirror_mode": {
    "name": "ipython",
    "version": 3
   },
   "file_extension": ".py",
   "mimetype": "text/x-python",
   "name": "python",
   "nbconvert_exporter": "python",
   "pygments_lexer": "ipython3",
   "version": "3.11.9"
  }
 },
 "nbformat": 4,
 "nbformat_minor": 2
}
